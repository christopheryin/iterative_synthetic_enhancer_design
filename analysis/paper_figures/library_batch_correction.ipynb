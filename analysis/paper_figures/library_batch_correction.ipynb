{
 "cells": [
  {
   "cell_type": "code",
   "execution_count": 1,
   "metadata": {},
   "outputs": [
    {
     "name": "stderr",
     "output_type": "stream",
     "text": [
      "C:\\Users\\Chris\\AppData\\Local\\Temp\\ipykernel_6712\\1715253149.py:1: DeprecationWarning: \n",
      "Pyarrow will become a required dependency of pandas in the next major release of pandas (pandas 3.0),\n",
      "(to allow more performant data types, such as the Arrow string type, and better interoperability with other libraries)\n",
      "but was not found to be installed on your system.\n",
      "If this would cause problems for you,\n",
      "please provide us feedback at https://github.com/pandas-dev/pandas/issues/54466\n",
      "        \n",
      "  import pandas as pd\n",
      "C:\\Users\\Chris\\AppData\\Local\\Temp\\ipykernel_6712\\1715253149.py:40: MatplotlibDeprecationWarning: The get_cmap function was deprecated in Matplotlib 3.7 and will be removed two minor releases later. Use ``matplotlib.colormaps[name]`` or ``matplotlib.colormaps.get_cmap(obj)`` instead.\n",
      "  greysBig = matplotlib.cm.get_cmap('Greys', 512)\n"
     ]
    }
   ],
   "source": [
    "import pandas as pd\n",
    "import os\n",
    "import numpy as np\n",
    "import seaborn as sns\n",
    "from scipy.stats import spearmanr, pearsonr, ranksums, linregress\n",
    "import matplotlib.pyplot as plt\n",
    "from matplotlib.colors import LinearSegmentedColormap\n",
    "import matplotlib\n",
    "import itertools\n",
    "import statannot\n",
    "from statsmodels.stats.multitest import fdrcorrection\n",
    "\n",
    "from deeplift.visualization import viz_sequence\n",
    "\n",
    "\n",
    "matplotlib.rcParams['figure.dpi'] = 120\n",
    "matplotlib.rcParams['font.sans-serif'] = 'Helvetica'\n",
    "\n",
    "\n",
    "HEPG2_COL = 'log2FoldChange_HepG2'\n",
    "K562_COL = 'log2FoldChange_K562'\n",
    "H2K_COL = 'log2FoldChange_H2K'\n",
    "\n",
    "HEPG2_SE_COL = 'lfcSE_HepG2'\n",
    "K562_SE_COL = 'lfcSE_K562'\n",
    "H2K_SE_COL = 'lfcSE_H2K'\n",
    "\n",
    "figure_dir = 'figures'\n",
    "\n",
    "TITLE_FSIZE = 12\n",
    "AXIS_FSIZE = 12\n",
    "TEXT_FSIZE = 10\n",
    "\n",
    "def seq_to_one_hot(seq,order_dict = {'A':0, 'T':3, 'C':1, 'G':2}):\n",
    "    x = np.zeros((len(seq), 4))\n",
    "    for (i, bp) in enumerate(seq):\n",
    "        x[i, order_dict[bp]] = 1\n",
    "    return x\n",
    "\n",
    "greysBig = matplotlib.cm.get_cmap('Greys', 512)\n",
    "greys_trunc_cm = matplotlib.colors.ListedColormap(greysBig(np.linspace(0.6, 1, 256)))\n",
    "\n",
    "import scipy\n",
    "def plot_scatter_shaded(x, y, ax, xlim=None, ylim=None, linreg=False, cmap=greys_trunc_cm, label=None,alpha=1,s=20):\n",
    "    xy = np.vstack([x, y])\n",
    "    z = scipy.stats.gaussian_kde(xy)(xy)\n",
    "    ax.scatter(\n",
    "        x,\n",
    "        y,\n",
    "        alpha=alpha,\n",
    "        s = s,\n",
    "        c=z,\n",
    "        cmap=cmap,\n",
    "        rasterized=True,\n",
    "        label=label,\n",
    "        zorder=20\n",
    "    )\n",
    "\n",
    "    if linreg:\n",
    "        lrres = scipy.stats.linregress(\n",
    "            x,\n",
    "            y,\n",
    "        )\n",
    "        ax.axline((0, lrres.intercept), slope=lrres.slope, color='dodgerblue', linewidth=2)\n",
    "        if xlim is None:\n",
    "            xlim = ax.get_xlim()\n",
    "        else:\n",
    "            ax.set_xlim(xlim)\n",
    "        if ylim is None:\n",
    "            ylim = ax.get_ylim()\n",
    "        else:\n",
    "            ax.set_ylim(ylim)\n",
    "        ax.annotate(\n",
    "            f'$r^2$ = {lrres.rvalue**2:.3f}',\n",
    "            xy=(xlim[0], ylim[1]),\n",
    "            xytext=(4,-4), textcoords='offset points',\n",
    "            va='top',\n",
    "        )\n",
    "\n",
    "        return lrres\n",
    "    \n",
    "\n",
    "# import logging from matplotlib\n",
    "import logging\n",
    "logging.getLogger('matplotlib.font_manager').disabled = True"
   ]
  },
  {
   "cell_type": "code",
   "execution_count": 2,
   "metadata": {},
   "outputs": [],
   "source": [
    "### Load D1, D2, and D3 data ###\n",
    "\n",
    "d2_deseq_df = pd.read_csv('../../../aws/for_aws/sequencing_analysis/d2_deseq_data/chris_log2fc_df_clean2.csv')\n",
    "# load in the dhs data\n",
    "dhs_deseq_df = pd.read_csv('../../../aws/for_aws/sequencing_analysis//fimo_motif_scanning/saved_processed_motif_files/dw_deseq_plus_cluster_cnts_df_qthresh05_v2.csv')\n",
    "\n",
    "d1_final_df = pd.read_csv('../../../aws/for_aws/sequencing_analysis/fimo_motif_scanning/saved_processed_motif_files/d1_final_df_qthresh05_v2.csv')\n",
    "d2_final_df = pd.read_csv('../../../aws/for_aws/sequencing_analysis/fimo_motif_scanning/saved_processed_motif_files/d2_final_df_qthresh05_v2.csv')\n",
    "d3_final_df = pd.read_csv('../designed_seqs/d3_tot_final_df_qthresh0.05.csv')\n",
    "\n",
    "d1_deseq_plus_cluster_cnts_df = pd.read_csv('../../../aws/for_aws/sequencing_analysis/fimo_motif_scanning/saved_processed_motif_files/d1_deseq_plus_cluster_cnts_df_qthresh05_v2_plus_cell_type.csv')\n",
    "d2_deseq_plus_cluster_cnts_df = pd.read_csv('../../../aws/for_aws/sequencing_analysis/fimo_motif_scanning/saved_processed_motif_files/d2_deseq_plus_cluster_cnts_df_qthresh05_v2.csv')\n",
    "\n",
    "# no longer need to process everytime loading this, I saved the processed + dna count thresholded version\n",
    "# d3_deseq_df = pd.read_csv('illumina_processing/log2fc/log2fc_enhancer.csv')\n",
    "# # rename 'Unnamed: 0' colum to 'sequence_name'\n",
    "# d3_deseq_df.rename(columns={'Unnamed: 0': 'sequence_name'}, inplace=True)\n",
    "# cols_to_merge = ['log2FoldChange_HepG2_DNA',\n",
    "#                  'log2FoldChange_K562_DNA']\n",
    "\n",
    "# d3_deseq_df['sequence_name'] = d3_deseq_df['sequence_name'].apply(lambda x: '_'.join(x.split('_')[1:]))\n",
    "\n",
    "d3_seq_dir = '../designed_seqs'\n",
    "# d3_seq_df = pd.read_csv(f'{d3_seq_dir}/d3_seq_df.csv')\n",
    "\n",
    "# # add the cols_to_merge to the d3_seq_df, via sequence_name\n",
    "# d3_seq_df = d3_seq_df.merge(d3_deseq_df[['sequence_name'] + cols_to_merge], on='sequence_name')\n",
    "# d3_seq_df['log2FoldChange_H2K'] = d3_seq_df['log2FoldChange_HepG2_DNA'] - d3_seq_df['log2FoldChange_K562_DNA']\n",
    "d3_seq_df = pd.read_csv(f'{d3_seq_dir}/d3_seq_df_thresh.csv')\n",
    "\n",
    "# merge in the lfcSE columns\n",
    "d3_deseq_df = pd.read_csv('illumina_processing/log2fc/log2fc_enhancer.csv')\n",
    "# rename first column to sequence_name\n",
    "d3_deseq_df.rename(columns={'Unnamed: 0':'sequence_name'},inplace=True)\n",
    "# remove the 'design_' prefix from the sequence_name column\n",
    "d3_deseq_df['sequence_name'] = d3_deseq_df['sequence_name'].apply(lambda x: x[7:])\n",
    "\n",
    "# merge in lfcSE_HepG2_DNA and lfcSE_K562_DNA columns from d2_deseq_plus_cluster_cnts_df into top_enhancer_df by sequence_name\n",
    "d3_seq_df = d3_seq_df.merge(d3_deseq_df[['sequence_name','lfcSE_HepG2_DNA','lfcSE_K562_DNA']],on='sequence_name',how='left')\n",
    "\n",
    "\n",
    "d3_deseq_df_plus_cluster_cnts = pd.read_csv('../designed_seqs/d3_seq_df_plus_cluster_counts.csv')\n",
    "cluster_cols = [col for col in d3_deseq_df_plus_cluster_cnts.columns if 'cluster' in col]\n",
    "cluster_cols = ['n_motifs'] + cluster_cols\n",
    "\n",
    "# merge cluster cols from d3_deseq_df_plus_cluster_cnts onto d3_seq_df, on sequence_name\n",
    "d3_deseq_plus_cluster_cnts_df = d3_seq_df.merge(d3_deseq_df_plus_cluster_cnts[['sequence_name'] + cluster_cols], on='sequence_name')\n",
    "\n"
   ]
  },
  {
   "cell_type": "code",
   "execution_count": 3,
   "metadata": {},
   "outputs": [],
   "source": [
    "D1_HEPG2_COL = 'log2FoldChange_HEPG2_DNA'\n",
    "D1_K562_COL = 'log2FoldChange_K562_DNA'\n",
    "D1_HEPG2_SE_COL = 'lfcSE_HEPG2_DNA'\n",
    "D1_K562_SE_COL = 'lfcSE_K562_DNA'\n",
    "\n",
    "D2_HEPG2_COL = 'log2FoldChange_HEPG2'\n",
    "D2_K562_COL = 'log2FoldChange_K562'\n",
    "D2_HEPG2_SE_COL = 'lfcSE_HEPG2'\n",
    "D2_K562_SE_COL = 'lfcSE_K562'\n",
    "\n",
    "D3_HEPG2_COL = 'log2FoldChange_HepG2_DNA'\n",
    "D3_K562_COL = 'log2FoldChange_K562_DNA'\n",
    "D3_HEPG2_SE_COL = 'lfcSE_HepG2_DNA'\n",
    "D3_K562_SE_COL = 'lfcSE_K562_DNA'\n",
    "\n",
    "# rename the columns to be consistent\n",
    "d1_deseq_plus_cluster_cnts_df.rename(columns={D1_HEPG2_COL:HEPG2_COL,\n",
    "                                                D1_K562_COL:K562_COL,\n",
    "                                                D1_HEPG2_SE_COL:HEPG2_SE_COL,\n",
    "                                                D1_K562_SE_COL:K562_SE_COL},inplace=True)\n",
    "\n",
    "d2_deseq_df.rename(columns={D2_HEPG2_COL:HEPG2_COL,\n",
    "                            D2_K562_COL:K562_COL,\n",
    "                            D2_HEPG2_SE_COL:HEPG2_SE_COL,\n",
    "                            D2_K562_SE_COL:K562_SE_COL},inplace=True)\n",
    "\n",
    "d3_seq_df.rename(columns={D3_HEPG2_COL:HEPG2_COL,\n",
    "                          D3_K562_COL:K562_COL,\n",
    "                          D3_HEPG2_SE_COL:HEPG2_SE_COL,\n",
    "                          D3_K562_SE_COL:K562_SE_COL},inplace=True)\n",
    "\n",
    "\n",
    "dhs_deseq_df.rename(columns={D2_HEPG2_COL:HEPG2_COL,\n",
    "                            D2_K562_COL:K562_COL,\n",
    "                            D2_HEPG2_SE_COL:HEPG2_SE_COL,\n",
    "                            D2_K562_SE_COL:K562_SE_COL},inplace=True)"
   ]
  },
  {
   "cell_type": "code",
   "execution_count": 4,
   "metadata": {},
   "outputs": [],
   "source": [
    "# load in the comb_seq_df\n",
    "# load in the combined data\n",
    "comb_deseq_df = pd.read_csv('../../../aws/for_aws/sequencing_analysis/d2_deseq_data/combined_log2fc.csv')\n",
    "# rename Unnamed: 0 to sequence\n",
    "comb_deseq_df.rename(columns={'Unnamed: 0': 'enhancer'}, inplace=True)\n",
    "# drop column X\n",
    "comb_deseq_df.drop(columns=['X'], inplace=True)\n",
    "comb_deseq_df.rename(columns={'log2FoldChange_HEPG2_DNA':f'{HEPG2_COL}_comb',\n",
    "                              'log2FoldChange_K562_DNA':f'{K562_COL}_comb',\n",
    "                              'lfcSE_HEPG2_DNA':f'{HEPG2_SE_COL}_comb',\n",
    "                              'lfcSE_K562_DNA':f'{K562_SE_COL}_comb'},inplace=True)"
   ]
  },
  {
   "cell_type": "code",
   "execution_count": 5,
   "metadata": {},
   "outputs": [],
   "source": [
    "# okay now I need to merge in the HEPG2, K562, HEPG2_SE_COL, and K562_SE_COL columns from comb_deseq_df into d2_deseq_df, also d2_deseq_plus_cluster_cnts_df\n",
    "# replace the columns in d2_deseq_df with the columns from comb_deseq_df\n",
    "d2_deseq_df = d2_deseq_df.merge(comb_deseq_df[['enhancer',f'{HEPG2_COL}_comb',f'{K562_COL}_comb',f'{HEPG2_SE_COL}_comb',f'{K562_SE_COL}_comb']],on='enhancer',how='left')\n",
    "# replace values in HEPG2_COL with HEPG2_COL_comb, drop HEPG2_COL_comb\n",
    "d2_deseq_df[HEPG2_COL] = d2_deseq_df[f'{HEPG2_COL}_comb']\n",
    "d2_deseq_df[K562_COL] = d2_deseq_df[f'{K562_COL}_comb']\n",
    "d2_deseq_df[HEPG2_SE_COL] = d2_deseq_df[f'{HEPG2_SE_COL}_comb']\n",
    "d2_deseq_df[K562_SE_COL] = d2_deseq_df[f'{K562_SE_COL}_comb']\n",
    "\n",
    "d2_deseq_df.drop(columns=[f'{HEPG2_COL}_comb',f'{K562_COL}_comb',f'{HEPG2_SE_COL}_comb',f'{K562_SE_COL}_comb'],inplace=True)\n",
    "\n",
    "# recalculate H2K_COL and H2K_SE_COL\n",
    "d2_deseq_df[H2K_COL] = d2_deseq_df[HEPG2_COL] - d2_deseq_df[K562_COL]\n",
    "d2_deseq_df[H2K_SE_COL] = np.sqrt(d2_deseq_df[HEPG2_SE_COL]**2 + d2_deseq_df[K562_SE_COL]**2)"
   ]
  },
  {
   "cell_type": "code",
   "execution_count": 6,
   "metadata": {},
   "outputs": [],
   "source": [
    "# do the same for the dhs_deseq_df\n",
    "dhs_deseq_df = dhs_deseq_df.merge(comb_deseq_df[['enhancer',f'{HEPG2_COL}_comb',f'{K562_COL}_comb',f'{HEPG2_SE_COL}_comb',f'{K562_SE_COL}_comb']],on='enhancer',how='left')\n",
    "dhs_deseq_df[HEPG2_COL] = dhs_deseq_df[f'{HEPG2_COL}_comb']\n",
    "dhs_deseq_df[K562_COL] = dhs_deseq_df[f'{K562_COL}_comb']\n",
    "dhs_deseq_df[HEPG2_SE_COL] = dhs_deseq_df[f'{HEPG2_SE_COL}_comb']\n",
    "dhs_deseq_df[K562_SE_COL] = dhs_deseq_df[f'{K562_SE_COL}_comb']\n",
    "\n",
    "dhs_deseq_df.drop(columns=[f'{HEPG2_COL}_comb',f'{K562_COL}_comb',f'{HEPG2_SE_COL}_comb',f'{K562_SE_COL}_comb'],inplace=True)\n",
    "\n",
    "dhs_deseq_df[H2K_COL] = dhs_deseq_df[HEPG2_COL] - dhs_deseq_df[K562_COL]\n",
    "dhs_deseq_df[H2K_SE_COL] = np.sqrt(dhs_deseq_df[HEPG2_SE_COL]**2 + dhs_deseq_df[K562_SE_COL]**2)"
   ]
  },
  {
   "cell_type": "code",
   "execution_count": null,
   "metadata": {},
   "outputs": [],
   "source": [
    "# okay! the new deseq procs have been integrated, can now proceed with the rest of the batch correction and generate new files - need to do for dhs as well, new to this notebook"
   ]
  },
  {
   "cell_type": "markdown",
   "metadata": {},
   "source": [
    "### R2 vs R1 linreg calculation (D3 to D2) ###"
   ]
  },
  {
   "cell_type": "code",
   "execution_count": 7,
   "metadata": {},
   "outputs": [],
   "source": [
    "d2_ctrl_df = d2_ctrl_df = d2_deseq_df[d2_deseq_df['model']=='control_f'].copy()\n",
    "d3_ctrl_df = d3_seq_df[d3_seq_df['model_type']=='d2_meas'].copy()\n",
    "d3_ctrl_df['og_seq_idx'] = d3_ctrl_df['sequence_name'].apply(lambda x: int(x.split('_')[-1]))\n",
    "d3_ctrl_inds = d3_ctrl_df['og_seq_idx'].values\n",
    "\n",
    "d2_ctrl_df[H2K_SE_COL] = np.sqrt(d2_ctrl_df[HEPG2_SE_COL]**2 + d2_ctrl_df[K562_SE_COL]**2)\n",
    "d3_ctrl_df[H2K_SE_COL] = np.sqrt(d3_ctrl_df[HEPG2_SE_COL]**2 + d3_ctrl_df[K562_SE_COL]**2)\n",
    "\n",
    "ctrl_df = pd.DataFrame(zip(d2_ctrl_df[HEPG2_COL],d2_ctrl_df[HEPG2_SE_COL],d3_ctrl_df[HEPG2_COL],d3_ctrl_df[HEPG2_SE_COL],\n",
    "                           d2_ctrl_df[K562_COL],d2_ctrl_df[K562_SE_COL],d3_ctrl_df[K562_COL],d3_ctrl_df[K562_SE_COL],\n",
    "                           d2_ctrl_df[H2K_COL],d2_ctrl_df[H2K_SE_COL],d3_ctrl_df[H2K_COL],d3_ctrl_df[H2K_SE_COL]))"
   ]
  },
  {
   "cell_type": "code",
   "execution_count": 34,
   "metadata": {},
   "outputs": [
    {
     "name": "stdout",
     "output_type": "stream",
     "text": [
      "m: 0.898, b: -0.692\n",
      "m: 0.883, b: -1.053\n",
      "m: 0.888, b: 0.351\n"
     ]
    }
   ],
   "source": [
    "d2_ctrl_df = d2_ctrl_df = d2_deseq_df[d2_deseq_df['model']=='control_f'].copy()\n",
    "d3_ctrl_df = d3_seq_df[d3_seq_df['model_type']=='d2_meas'].copy()\n",
    "d3_ctrl_df['og_seq_idx'] = d3_ctrl_df['sequence_name'].apply(lambda x: int(x.split('_')[-1]))\n",
    "d3_ctrl_inds = d3_ctrl_df['og_seq_idx'].values\n",
    "\n",
    "d2_ctrl_df = d2_deseq_df.iloc[d3_ctrl_inds].copy()\n",
    "d2_ctrl_df[H2K_SE_COL] = np.sqrt(d2_ctrl_df[HEPG2_SE_COL]**2 + d2_ctrl_df[K562_SE_COL]**2)\n",
    "d3_ctrl_df[H2K_SE_COL] = np.sqrt(d3_ctrl_df[HEPG2_SE_COL]**2 + d3_ctrl_df[K562_SE_COL]**2)\n",
    "\n",
    "ctrl_df = pd.DataFrame(zip(d2_ctrl_df[HEPG2_COL],d2_ctrl_df[HEPG2_SE_COL],d3_ctrl_df[HEPG2_COL],d3_ctrl_df[HEPG2_SE_COL],\n",
    "                           d2_ctrl_df[K562_COL],d2_ctrl_df[K562_SE_COL],d3_ctrl_df[K562_COL],d3_ctrl_df[K562_SE_COL],\n",
    "                           d2_ctrl_df[H2K_COL],d2_ctrl_df[H2K_SE_COL],d3_ctrl_df[H2K_COL],d3_ctrl_df[H2K_SE_COL]))\n",
    "\n",
    "ctrl_df.columns = ['D2 HEPG2','D2 HEPG2 SE','D3 HEPG2','D3 HEPG2 SE',\n",
    "                   'D2 K562','D2 K562 SE','D3 K562','D3 K562 SE',\n",
    "                   'D2 H2K','D2 H2K SE','D3 H2K','D3 H2K SE']\n",
    "\n",
    "## HEPG2 ##\n",
    "\n",
    "weights = 1 / (ctrl_df['D2 HEPG2 SE']**2 + ctrl_df['D3 HEPG2 SE']**2)\n",
    "weights /= weights.sum()\n",
    "\n",
    "# weighted linear regression using polyfit\n",
    "wlr = np.polyfit(ctrl_df['D2 HEPG2'],ctrl_df['D3 HEPG2'],1,w=weights)\n",
    "\n",
    "# regress D2 HEPG2 on D3 HEPG2\n",
    "m_hepg2,b_hepg2 = wlr.tolist()\n",
    "\n",
    "## K562 ##\n",
    "\n",
    "# # calculate weighted linear regression between D3 HEPG2 and D2 HEPG2\n",
    "\n",
    "weights = 1 / (ctrl_df['D2 K562 SE']**2 + ctrl_df['D3 K562 SE']**2)\n",
    "weights /= weights.sum()\n",
    "\n",
    "# weighted linear regression using polyfit\n",
    "wlr = np.polyfit(ctrl_df['D2 K562'],ctrl_df['D3 K562'],1,w=weights)\n",
    "m_k562,b_k562 = wlr.tolist()\n",
    "\n",
    "## H2K ##\n",
    "weights = 1 / (ctrl_df['D2 H2K SE']**2 + ctrl_df['D3 H2K SE']**2)\n",
    "weights /= weights.sum()\n",
    "\n",
    "# weighted linear regression using polyfit\n",
    "wlr = np.polyfit(ctrl_df['D2 H2K'],ctrl_df['D3 H2K'],1,w=weights)\n",
    "m_h2k,b_h2k = wlr.tolist()\n",
    "\n",
    "# print out the slopes and intercepts\n",
    "print(f'm: {m_hepg2:.3f}, b: {b_hepg2:.3f}')\n",
    "print(f'm: {m_k562:.3f}, b: {b_k562:.3f}')\n",
    "print(f'm: {m_h2k:.3f}, b: {b_h2k:.3f}')\n",
    "\n",
    "\n",
    "# save m_hepg2, b_hepg2, m_k562, b_k562 to npy file\n",
    "np.save('batch_correction_weights/comb_dhs/d2_to_d3_linregs_weighted_pf.npy',np.array([m_hepg2, b_hepg2, m_k562, b_k562,m_h2k,b_h2k]))"
   ]
  },
  {
   "cell_type": "code",
   "execution_count": null,
   "metadata": {},
   "outputs": [],
   "source": [
    "m: 0.888, b: -0.447\n",
    "m: 0.873, b: -0.555\n",
    "m: 0.881, b: 0.091"
   ]
  },
  {
   "cell_type": "code",
   "execution_count": 96,
   "metadata": {},
   "outputs": [
    {
     "name": "stdout",
     "output_type": "stream",
     "text": [
      "m: 0.871, b: -0.378\n",
      "m: 0.853, b: -0.475\n",
      "m: 0.856, b: 0.092\n"
     ]
    }
   ],
   "source": [
    "# # alternate version - use statsmodes with intercept\n",
    "# import statsmodels.api as sm\n",
    "\n",
    "# ## HEPG2 ##\n",
    "\n",
    "# # # calculate weighted linear regression between D3 HEPG2 and D2 HEPG2\n",
    "\n",
    "# w = 1 / (ctrl_df['D2 HEPG2 SE']**2 + ctrl_df['D3 HEPG2 SE']**2)\n",
    "# x = ctrl_df['D2 HEPG2']\n",
    "# y = ctrl_df['D3 HEPG2']\n",
    "# # Add a constant term to the independent variable matrix\n",
    "# X = sm.add_constant(x)\n",
    "# # Fit the weighted linear regression model\n",
    "# model = sm.WLS(y, X, weights=w)  # Note: You can use weights directly or specify them in the `WLS` function\n",
    "# results = model.fit()\n",
    "# # regress D2 HEPG2 on D1 HEPG2\n",
    "# m_hepg2,b_hepg2 = results.params.tolist()[::-1]\n",
    "# print(f'm: {m_hepg2:.3f}, b: {b_hepg2:.3f}')\n",
    "\n",
    "# ## K562 ##\n",
    "\n",
    "# w = 1 / (ctrl_df['D2 K562 SE']**2 + ctrl_df['D3 K562 SE']**2)\n",
    "# x = ctrl_df['D2 K562']\n",
    "# y = ctrl_df['D3 K562']\n",
    "# # Add a constant term to the independent variable matrix\n",
    "# X = sm.add_constant(x)\n",
    "# # Fit the weighted linear regression model\n",
    "# model = sm.WLS(y, X, weights=w)  # Note: You can use weights directly or specify them in the `WLS` function\n",
    "# results = model.fit()\n",
    "# # regress D2 K562 on D1 K562\n",
    "# m_k562,b_k562 = results.params.tolist()[::-1]\n",
    "# print(f'm: {m_k562:.3f}, b: {b_k562:.3f}')\n",
    "\n",
    "# ## H2K ##\n",
    "\n",
    "# w = 1 / (ctrl_df['D2 H2K SE']**2 + ctrl_df['D3 H2K SE']**2)\n",
    "# x = ctrl_df['D2 H2K']\n",
    "# y = ctrl_df['D3 H2K']\n",
    "# # Add a constant term to the independent variable matrix\n",
    "# X = sm.add_constant(x)\n",
    "# # Fit the weighted linear regression model\n",
    "# model = sm.WLS(y, X, weights=w)  # Note: You can use weights directly or specify them in the `WLS` function\n",
    "# results = model.fit()\n",
    "# # regress D2 H2K on D1 H2K\n",
    "# m_h2k,b_h2k = results.params.tolist()[::-1]\n",
    "# print(f'm: {m_h2k:.3f}, b: {b_h2k:.3f}')\n",
    "\n",
    "# # save m_hepg2, b_hepg2, m_k562, b_k562 to npy file\n",
    "# np.save('d2_to_d3_linregs_weighted_sm.npy',np.array([m_hepg2, b_hepg2, m_k562, b_k562,m_h2k,b_h2k]))"
   ]
  },
  {
   "cell_type": "markdown",
   "metadata": {},
   "source": [
    "### R1 vs R0 linreg calculation ###"
   ]
  },
  {
   "cell_type": "code",
   "execution_count": 35,
   "metadata": {},
   "outputs": [
    {
     "name": "stdout",
     "output_type": "stream",
     "text": [
      "m: 0.626, b: -1.524\n",
      "m: 0.614, b: -1.289\n",
      "m: 0.518, b: -0.421\n"
     ]
    }
   ],
   "source": [
    "# # alternate version - use statsmodes with intercept\n",
    "# import statsmodels.api as sm\n",
    "\n",
    "d2_ctrl_df = d2_ctrl_df = d2_deseq_df[d2_deseq_df['model']=='control_f'].copy()\n",
    "d1_ctrl_df = d1_deseq_plus_cluster_cnts_df[d1_deseq_plus_cluster_cnts_df['seq'].isin(d2_ctrl_df['enhancer'])].copy()\n",
    "\n",
    "d2_ctrl_df[H2K_SE_COL] = np.sqrt(d2_ctrl_df[HEPG2_SE_COL]**2 + d2_ctrl_df[K562_SE_COL]**2)\n",
    "d1_ctrl_df[H2K_SE_COL] = np.sqrt(d1_ctrl_df[HEPG2_SE_COL]**2 + d1_ctrl_df[K562_SE_COL]**2)\n",
    "\n",
    "ctrl_df = pd.DataFrame(zip(d2_ctrl_df[HEPG2_COL],d2_ctrl_df[HEPG2_SE_COL],d1_ctrl_df[HEPG2_COL],d1_ctrl_df[HEPG2_SE_COL],\n",
    "                           d2_ctrl_df[K562_COL],d2_ctrl_df[K562_SE_COL],d1_ctrl_df[K562_COL],d1_ctrl_df[K562_SE_COL],\n",
    "                           d2_ctrl_df[H2K_COL],d2_ctrl_df[H2K_SE_COL],d1_ctrl_df[H2K_COL],d1_ctrl_df[H2K_SE_COL]))\n",
    "ctrl_df.columns = ['D2 HEPG2','D2 HEPG2 SE','D1 HEPG2','D1 HEPG2 SE',\n",
    "                   'D2 K562','D2 K562 SE','D1 K562','D1 K562 SE',\n",
    "                   'D2 H2K','D2 H2K SE','D1 H2K','D1 H2K SE']\n",
    "\n",
    "## HEPG2 ##\n",
    "\n",
    "weights = 1 / (ctrl_df['D2 HEPG2 SE']**2 + ctrl_df['D1 HEPG2 SE']**2)\n",
    "weights /= weights.sum()\n",
    "\n",
    "# weighted linear regression using polyfit\n",
    "wlr = np.polyfit(ctrl_df['D1 HEPG2'],ctrl_df['D2 HEPG2'],1,w=weights)\n",
    "\n",
    "# regress D2 HEPG2 on D1 HEPG2\n",
    "m_hepg2,b_hepg2 = wlr.tolist()\n",
    "\n",
    "## K562 ##\n",
    "\n",
    "# # calculate weighted linear regression between D3 HEPG2 and D2 HEPG2\n",
    "\n",
    "weights = 1 / (ctrl_df['D2 K562 SE']**2 + ctrl_df['D1 K562 SE']**2)\n",
    "weights /= weights.sum()\n",
    "\n",
    "# weighted linear regression using polyfit\n",
    "wlr = np.polyfit(ctrl_df['D1 K562'],ctrl_df['D2 K562'],1,w=weights)\n",
    "m_k562,b_k562 = wlr.tolist()\n",
    "\n",
    "## H2K ##\n",
    "weights = 1 / (ctrl_df['D2 H2K SE']**2 + ctrl_df['D1 H2K SE']**2)\n",
    "weights /= weights.sum()\n",
    "\n",
    "# weighted linear regression using polyfit\n",
    "wlr = np.polyfit(ctrl_df['D1 H2K'],ctrl_df['D2 H2K'],1,w=weights)\n",
    "m_h2k,b_h2k = wlr.tolist()\n",
    "\n",
    "# print out the slopes and intercepts\n",
    "print(f'm: {m_hepg2:.3f}, b: {b_hepg2:.3f}')\n",
    "print(f'm: {m_k562:.3f}, b: {b_k562:.3f}')\n",
    "print(f'm: {m_h2k:.3f}, b: {b_h2k:.3f}')\n",
    "\n",
    "\n",
    "# save m_hepg2, b_hepg2, m_k562, b_k562 to npy file\n",
    "np.save('batch_correction_weights/comb_dhs/d1_to_d2_linregs_weighted_pf.npy',np.array([m_hepg2, b_hepg2, m_k562, b_k562,m_h2k,b_h2k]))"
   ]
  },
  {
   "cell_type": "code",
   "execution_count": 89,
   "metadata": {},
   "outputs": [
    {
     "name": "stdout",
     "output_type": "stream",
     "text": [
      "m: 0.600, b: -1.726\n",
      "m: 0.585, b: -1.702\n",
      "m: 0.500, b: -0.133\n"
     ]
    }
   ],
   "source": [
    "# # alternate version - use statsmodes with intercept\n",
    "# import statsmodels.api as sm\n",
    "\n",
    "# d2_ctrl_df = d2_ctrl_df = d2_deseq_df[d2_deseq_df['model']=='control_f'].copy()\n",
    "# d1_ctrl_df = d1_deseq_plus_cluster_cnts_df[d1_deseq_plus_cluster_cnts_df['seq'].isin(d2_ctrl_df['enhancer'])].copy()\n",
    "\n",
    "# d2_ctrl_df[H2K_SE_COL] = np.sqrt(d2_ctrl_df[HEPG2_SE_COL]**2 + d2_ctrl_df[K562_SE_COL]**2)\n",
    "# d1_ctrl_df[H2K_SE_COL] = np.sqrt(d1_ctrl_df[HEPG2_SE_COL]**2 + d1_ctrl_df[K562_SE_COL]**2)\n",
    "\n",
    "# ctrl_df = pd.DataFrame(zip(d2_ctrl_df[HEPG2_COL],d2_ctrl_df[HEPG2_SE_COL],d1_ctrl_df[HEPG2_COL],d1_ctrl_df[HEPG2_SE_COL],\n",
    "#                            d2_ctrl_df[K562_COL],d2_ctrl_df[K562_SE_COL],d1_ctrl_df[K562_COL],d1_ctrl_df[K562_SE_COL],\n",
    "#                            d2_ctrl_df[H2K_COL],d2_ctrl_df[H2K_SE_COL],d1_ctrl_df[H2K_COL],d1_ctrl_df[H2K_SE_COL]))\n",
    "# ctrl_df.columns = ['D2 HEPG2','D2 HEPG2 SE','D1 HEPG2','D1 HEPG2 SE',\n",
    "#                    'D2 K562','D2 K562 SE','D1 K562','D1 K562 SE',\n",
    "#                    'D2 H2K','D2 H2K SE','D1 H2K','D1 H2K SE']\n",
    "\n",
    "# ## HEPG2 ##\n",
    "\n",
    "# # # calculate weighted linear regression between D3 HEPG2 and D2 HEPG2\n",
    "\n",
    "# w = 1 / (ctrl_df['D2 HEPG2 SE']**2 + ctrl_df['D1 HEPG2 SE']**2)\n",
    "# x = ctrl_df['D1 HEPG2']\n",
    "# y = ctrl_df['D2 HEPG2']\n",
    "# # Add a constant term to the independent variable matrix\n",
    "# X = sm.add_constant(x)\n",
    "# # Fit the weighted linear regression model\n",
    "# model = sm.WLS(y, X, weights=w)  # Note: You can use weights directly or specify them in the `WLS` function\n",
    "# results = model.fit()\n",
    "# # regress D2 HEPG2 on D1 HEPG2\n",
    "# m_hepg2,b_hepg2 = results.params.tolist()[::-1]\n",
    "# print(f'm: {m_hepg2:.3f}, b: {b_hepg2:.3f}')\n",
    "\n",
    "# ## K562 ##\n",
    "\n",
    "# w = 1 / (ctrl_df['D2 K562 SE']**2 + ctrl_df['D1 K562 SE']**2)\n",
    "# x = ctrl_df['D1 K562']\n",
    "# y = ctrl_df['D2 K562']\n",
    "# # Add a constant term to the independent variable matrix\n",
    "# X = sm.add_constant(x)\n",
    "# # Fit the weighted linear regression model\n",
    "# model = sm.WLS(y, X, weights=w)  # Note: You can use weights directly or specify them in the `WLS` function\n",
    "# results = model.fit()\n",
    "# # regress D2 K562 on D1 K562\n",
    "# m_k562,b_k562 = results.params.tolist()[::-1]\n",
    "# print(f'm: {m_k562:.3f}, b: {b_k562:.3f}')\n",
    "\n",
    "# ## H2K ##\n",
    "\n",
    "# w = 1 / (ctrl_df['D2 H2K SE']**2 + ctrl_df['D1 H2K SE']**2)\n",
    "# x = ctrl_df['D1 H2K']\n",
    "# y = ctrl_df['D2 H2K']\n",
    "# # Add a constant term to the independent variable matrix\n",
    "# X = sm.add_constant(x)\n",
    "# # Fit the weighted linear regression model\n",
    "# model = sm.WLS(y, X, weights=w)  # Note: You can use weights directly or specify them in the `WLS` function\n",
    "# results = model.fit()\n",
    "# # regress D2 H2K on D1 H2K\n",
    "# m_h2k,b_h2k = results.params.tolist()[::-1]\n",
    "# print(f'm: {m_h2k:.3f}, b: {b_h2k:.3f}')\n",
    "\n",
    "# # save m_hepg2, b_hepg2, m_k562, b_k562 to npy file\n",
    "# np.save('d1_to_d2_linregs_weighted_sm.npy',np.array([m_hepg2, b_hepg2, m_k562, b_k562,m_h2k,b_h2k]))"
   ]
  },
  {
   "cell_type": "code",
   "execution_count": null,
   "metadata": {},
   "outputs": [],
   "source": [
    "# # unweighted\n",
    "\n",
    "# m: 0.580, b: -1.700\n",
    "# m: 0.546, b: -1.591\n",
    "# m: 0.482, b: -0.107\n",
    "\n",
    "# # polyfit - why is this different from statsmodels? but, this might be better: higher slopes >> lower intercepts?\n",
    "# m: 0.620, b: -1.776\n",
    "# m: 0.618, b: -1.852\n",
    "# m: 0.516, b: -0.153\n",
    "\n",
    "# #statsmodel\n",
    "# m: 0.600, b: -1.726\n",
    "# m: 0.585, b: -1.702\n",
    "# m: 0.500, b: -0.133"
   ]
  },
  {
   "cell_type": "code",
   "execution_count": 3,
   "metadata": {},
   "outputs": [],
   "source": [
    "d2_cols = ['enhancer','log2FoldChange_HEPG2','log2FoldChange_K562','log2FoldChange_H2K','cell_type']\n",
    "d2_ctrl_df = d2_deseq_df[d2_deseq_df['model']=='control_f'][d2_cols].copy()\n",
    "# reset index\n",
    "d2_ctrl_df.reset_index(inplace=True,drop=True)\n",
    "# rename cols to D2 HEPG2, D2 K562, D2 H2K\n",
    "d2_ctrl_df.rename(columns={'log2FoldChange_HEPG2': 'D2 HEPG2',\n",
    "                           'log2FoldChange_K562': 'D2 K562',\n",
    "                           'log2FoldChange_H2K': 'D2 H2K'}, inplace=True)\n",
    "\n",
    "\n",
    "d1_cols = ['log2FoldChange_HEPG2_DNA','log2FoldChange_K562_DNA','log2FoldChange_H2K']\n",
    "# get rows of d1_deseq_plus_cluster_cnts_df where seq is in d2_ctrl_df['enhancer]\n",
    "d1_ctrl_df = d1_deseq_plus_cluster_cnts_df[d1_deseq_plus_cluster_cnts_df['seq'].isin(d2_ctrl_df['enhancer'])][d1_cols].copy()\n",
    "# reset index\n",
    "d1_ctrl_df.reset_index(inplace=True,drop=True)\n",
    "# rename cols to D1 HEPG2, D1 K562, D1 H2K\n",
    "d1_ctrl_df.rename(columns={'log2FoldChange_HEPG2_DNA': 'D1 HEPG2',\n",
    "                           'log2FoldChange_K562_DNA': 'D1 K562',\n",
    "                           'log2FoldChange_H2K': 'D1 H2K'}, inplace=True)\n",
    "\n",
    "# concatenate d1_ctrl_df and d2_ctrl_df axis=1\n",
    "ctrl_df = pd.concat([d1_ctrl_df,d2_ctrl_df],axis=1)\n",
    "# drop enhancer column\n",
    "ctrl_df.drop(columns=['enhancer'],inplace=True)\n",
    "\n",
    "\n",
    "# d2_ctrl_df['og_seq_idx'] = d2_ctrl_df['sequence_name'].apply(lambda x: int(x.split('_')[-1]))\n",
    "# d3_ctrl_inds = d2_ctrl_df['og_seq_idx'].values"
   ]
  },
  {
   "cell_type": "code",
   "execution_count": 9,
   "metadata": {},
   "outputs": [
    {
     "name": "stdout",
     "output_type": "stream",
     "text": [
      "m: 0.580, b: -1.700, pcc: 0.812\n",
      "m: 0.546, b: -1.591, pcc: 0.782\n",
      "m: 0.482, b: -0.107, pcc: 0.791\n"
     ]
    }
   ],
   "source": [
    "# regress D2 HEPG2 on D1 HEPG2\n",
    "m_hepg2,b_hepg2 = np.polyfit(ctrl_df['D1 HEPG2'],ctrl_df['D2 HEPG2'],1)\n",
    "# regress D2 K562 on D1 K562\n",
    "m_k562,b_k562 = np.polyfit(ctrl_df['D1 K562'],ctrl_df['D2 K562'],1)\n",
    "# regress D2 H2K on D1 H2K\n",
    "m_h2k,b_h2k = np.polyfit(ctrl_df['D1 H2K'],ctrl_df['D2 H2K'],1)\n",
    "\n",
    "# also get correlations for each of these\n",
    "corr_hepg2,p_hepg2 = pearsonr(ctrl_df['D1 HEPG2'],ctrl_df['D2 HEPG2'])\n",
    "corr_k562,p_k562 = pearsonr(ctrl_df['D1 K562'],ctrl_df['D2 K562'])\n",
    "corr_h2k,p_h2k = pearsonr(ctrl_df['D1 H2K'],ctrl_df['D2 H2K'])\n",
    "\n",
    "# print out the slopes and intercepts\n",
    "print(f'm: {m_hepg2:.3f}, b: {b_hepg2:.3f}, pcc: {corr_hepg2:.3f}')\n",
    "print(f'm: {m_k562:.3f}, b: {b_k562:.3f}, pcc: {corr_k562:.3f}')\n",
    "print(f'm: {m_h2k:.3f}, b: {b_h2k:.3f}, pcc: {corr_h2k:.3f}')"
   ]
  },
  {
   "cell_type": "code",
   "execution_count": 11,
   "metadata": {},
   "outputs": [
    {
     "data": {
      "text/plain": [
       "Text(0.5, 1.0, 'D1 vs D2 Control Sequences (n=100)')"
      ]
     },
     "execution_count": 11,
     "metadata": {},
     "output_type": "execute_result"
    },
    {
     "data": {
      "image/png": "[encoded data removed]",
      "text/plain": [
       "<Figure size 480x360 with 1 Axes>"
      ]
     },
     "metadata": {},
     "output_type": "display_data"
    }
   ],
   "source": [
    "# scatterplot of D1 HEPG2 vs D2 HEPG2\n",
    "plt.figure(figsize=(4,3))\n",
    "sns.scatterplot(x='D1 HEPG2',y='D2 HEPG2',data=ctrl_df)\n",
    "plt.xlabel('D1 log2(HEPG2)',fontsize=AXIS_FSIZE)\n",
    "plt.ylabel('D2 log2(HEPG2)',fontsize=AXIS_FSIZE)\n",
    "\n",
    "# plot line of best fit with m_hepg2,b_hepg2\n",
    "xlim = plt.xlim()\n",
    "x = np.array([xlim[0],xlim[1]])\n",
    "y = m_hepg2*x + b_hepg2\n",
    "plt.plot(x,y,color='tab:orange',linewidth=2)\n",
    "# add title\n",
    "plt.title(f'D1 vs D2 Control Sequences (n={ctrl_df.shape[0]})',fontsize=TITLE_FSIZE)\n"
   ]
  },
  {
   "cell_type": "code",
   "execution_count": 12,
   "metadata": {},
   "outputs": [
    {
     "data": {
      "text/plain": [
       "Text(0.5, 1.0, 'D1 vs D2 Control Sequences (n=100)')"
      ]
     },
     "execution_count": 12,
     "metadata": {},
     "output_type": "execute_result"
    },
    {
     "data": {
      "image/png": "[encoded data removed]",
      "text/plain": [
       "<Figure size 480x360 with 1 Axes>"
      ]
     },
     "metadata": {},
     "output_type": "display_data"
    }
   ],
   "source": [
    "# scatterplot of D1 K562 vs D2 K562\n",
    "plt.figure(figsize=(4,3))\n",
    "sns.scatterplot(x='D1 K562',y='D2 K562',data=ctrl_df)\n",
    "plt.xlabel('D1 log2(K562)',fontsize=AXIS_FSIZE)\n",
    "plt.ylabel('D2 log2(K562)',fontsize=AXIS_FSIZE)\n",
    "# plot line of best fit with m_k562,b_k562\n",
    "xlim = plt.xlim()\n",
    "x = np.array([xlim[0],xlim[1]])\n",
    "y = m_k562*x + b_k562\n",
    "plt.plot(x,y,color='tab:orange',linewidth=2)\n",
    "# add title\n",
    "plt.title(f'D1 vs D2 Control Sequences (n={ctrl_df.shape[0]})',fontsize=TITLE_FSIZE)\n"
   ]
  },
  {
   "cell_type": "code",
   "execution_count": 7,
   "metadata": {},
   "outputs": [],
   "source": [
    "# calculate linreg D1 HEPG2\n",
    "ctrl_df['D1 HEPG2 linreg'] = m_hepg2 * ctrl_df['D1 HEPG2'] + b_hepg2\n",
    "# calculate linreg D1 K562\n",
    "ctrl_df['D1 K562 linreg'] = m_k562 * ctrl_df['D1 K562'] + b_k562\n",
    "# calculate linreg D1 H2K\n",
    "ctrl_df['D1 H2K linreg'] = m_h2k * ctrl_df['D1 H2K'] + b_h2k\n",
    "# calculate linreg D1 H2K sep\n",
    "ctrl_df['D1 H2K linreg sep'] = ctrl_df['D1 HEPG2 linreg'] - ctrl_df['D1 K562 linreg']"
   ]
  },
  {
   "cell_type": "code",
   "execution_count": 8,
   "metadata": {},
   "outputs": [
    {
     "name": "stdout",
     "output_type": "stream",
     "text": [
      "m: 1.1676399172798682, b: 0.09544508577448597\n"
     ]
    },
    {
     "data": {
      "text/plain": [
       "Text(0.5, 1.0, 'D2 vs D3 Control Sequences (n=100)')"
      ]
     },
     "execution_count": 8,
     "metadata": {},
     "output_type": "execute_result"
    },
    {
     "data": {
      "image/png": "[encoded data removed]",
      "text/plain": [
       "<Figure size 480x360 with 1 Axes>"
      ]
     },
     "metadata": {
      "needs_background": "light"
     },
     "output_type": "display_data"
    }
   ],
   "source": [
    "col1 = 'D1 H2K linreg'\n",
    "col2 = 'D1 H2K linreg sep'\n",
    "corr,p = pearsonr(ctrl_df[col1],ctrl_df[col2])\n",
    "# calculate slope and intercept of linear regression\n",
    "m_k562,b_k562 = np.polyfit(ctrl_df[col1],ctrl_df[col2],1)\n",
    "print(f'm: {m_k562}, b: {b_k562}')\n",
    "\n",
    "# scatterplot of D2 vs D3 H2K for control sequences, colored by cell_type\n",
    "plt.figure(figsize=(4,3))\n",
    "sns.scatterplot(x=col1,y=col2,hue='cell_type',data=ctrl_df,palette=palette,style='cell_type')\n",
    "plt.xlabel(f'{col1}',fontsize=AXIS_FSIZE)\n",
    "plt.ylabel(f'{col2}',fontsize=AXIS_FSIZE)\n",
    "# move legend outside of plot\n",
    "plt.legend(bbox_to_anchor=(1.05, 1), loc=2, borderaxespad=0.)\n",
    "\n",
    "# add correlation to plot\n",
    "plt.text(2,-2,f'PCC = {corr:.2f}',fontsize=TEXT_FSIZE)\n",
    "# add title\n",
    "plt.title(f'D2 vs D3 Control Sequences (n={ctrl_df.shape[0]})',fontsize=TITLE_FSIZE)"
   ]
  },
  {
   "cell_type": "code",
   "execution_count": 137,
   "metadata": {},
   "outputs": [
    {
     "data": {
      "text/html": [
       "<div>\n",
       "<style scoped>\n",
       "    .dataframe tbody tr th:only-of-type {\n",
       "        vertical-align: middle;\n",
       "    }\n",
       "\n",
       "    .dataframe tbody tr th {\n",
       "        vertical-align: top;\n",
       "    }\n",
       "\n",
       "    .dataframe thead th {\n",
       "        text-align: right;\n",
       "    }\n",
       "</style>\n",
       "<table border=\"1\" class=\"dataframe\">\n",
       "  <thead>\n",
       "    <tr style=\"text-align: right;\">\n",
       "      <th></th>\n",
       "      <th>D1 H2K linreg</th>\n",
       "      <th>D1 H2K linreg sep</th>\n",
       "    </tr>\n",
       "  </thead>\n",
       "  <tbody>\n",
       "    <tr>\n",
       "      <th>0</th>\n",
       "      <td>-0.200637</td>\n",
       "      <td>-0.213346</td>\n",
       "    </tr>\n",
       "    <tr>\n",
       "      <th>1</th>\n",
       "      <td>2.334215</td>\n",
       "      <td>2.841722</td>\n",
       "    </tr>\n",
       "    <tr>\n",
       "      <th>2</th>\n",
       "      <td>-2.877588</td>\n",
       "      <td>-3.259343</td>\n",
       "    </tr>\n",
       "    <tr>\n",
       "      <th>3</th>\n",
       "      <td>-0.982390</td>\n",
       "      <td>-1.019398</td>\n",
       "    </tr>\n",
       "    <tr>\n",
       "      <th>4</th>\n",
       "      <td>2.336902</td>\n",
       "      <td>2.847498</td>\n",
       "    </tr>\n",
       "    <tr>\n",
       "      <th>...</th>\n",
       "      <td>...</td>\n",
       "      <td>...</td>\n",
       "    </tr>\n",
       "    <tr>\n",
       "      <th>95</th>\n",
       "      <td>-2.063631</td>\n",
       "      <td>-2.334717</td>\n",
       "    </tr>\n",
       "    <tr>\n",
       "      <th>96</th>\n",
       "      <td>1.777097</td>\n",
       "      <td>2.188578</td>\n",
       "    </tr>\n",
       "    <tr>\n",
       "      <th>97</th>\n",
       "      <td>1.693359</td>\n",
       "      <td>2.168244</td>\n",
       "    </tr>\n",
       "    <tr>\n",
       "      <th>98</th>\n",
       "      <td>-0.341185</td>\n",
       "      <td>-0.377590</td>\n",
       "    </tr>\n",
       "    <tr>\n",
       "      <th>99</th>\n",
       "      <td>-0.314526</td>\n",
       "      <td>-0.348806</td>\n",
       "    </tr>\n",
       "  </tbody>\n",
       "</table>\n",
       "<p>100 rows × 2 columns</p>\n",
       "</div>"
      ],
      "text/plain": [
       "    D1 H2K linreg  D1 H2K linreg sep\n",
       "0       -0.200637          -0.213346\n",
       "1        2.334215           2.841722\n",
       "2       -2.877588          -3.259343\n",
       "3       -0.982390          -1.019398\n",
       "4        2.336902           2.847498\n",
       "..            ...                ...\n",
       "95      -2.063631          -2.334717\n",
       "96       1.777097           2.188578\n",
       "97       1.693359           2.168244\n",
       "98      -0.341185          -0.377590\n",
       "99      -0.314526          -0.348806\n",
       "\n",
       "[100 rows x 2 columns]"
      ]
     },
     "execution_count": 137,
     "metadata": {},
     "output_type": "execute_result"
    }
   ],
   "source": [
    "ctrl_df[[col1,col2]]"
   ]
  },
  {
   "cell_type": "code",
   "execution_count": 151,
   "metadata": {},
   "outputs": [],
   "source": [
    "# save m_hepg2, b_hepg2, m_k562, b_k562 to npy file\n",
    "np.save('d1_to_d2_linregs.npy',np.array([m_hepg2, b_hepg2, m_k562, b_k562]))"
   ]
  },
  {
   "cell_type": "code",
   "execution_count": null,
   "metadata": {},
   "outputs": [],
   "source": [
    "# Okay! well, that's that I guess. what I need to do now is calculate the D1 -> D3 regression for the scatterplots in Fig 1.\n",
    "# and then also calculate the D2 -> D3 regression for the Fig 1 scatterplot. I guess I can just move this over to the d3_figure_notebook now...though maybe I should start breaking up by figures, I don't know...\n",
    "# Then I need to figure out what boxswarm comparisons to plot."
   ]
  }
 ],
 "metadata": {
  "kernelspec": {
   "display_name": "Python 3",
   "language": "python",
   "name": "python3"
  },
  "language_info": {
   "codemirror_mode": {
    "name": "ipython",
    "version": 3
   },
   "file_extension": ".py",
   "mimetype": "text/x-python",
   "name": "python",
   "nbconvert_exporter": "python",
   "pygments_lexer": "ipython3",
   "version": "3.11.9"
  }
 },
 "nbformat": 4,
 "nbformat_minor": 2
}
